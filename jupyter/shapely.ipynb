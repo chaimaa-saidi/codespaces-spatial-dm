{
 "cells": [
  {
   "cell_type": "code",
   "execution_count": 1,
   "metadata": {},
   "outputs": [
    {
     "name": "stdout",
     "output_type": "stream",
     "text": [
      "POINT (2.2 4.2)\n",
      "POINT Z (9.26 -2.456 0.57)\n",
      "<class 'shapely.geometry.point.Point'>\n"
     ]
    }
   ],
   "source": [
    "# Import necessary geometric objects from shapely module\n",
    "from shapely.geometry import Point, LineString, Polygon\n",
    "\n",
    "# Create Point geometric object(s) with coordinates\n",
    "point1 = Point(2.2, 4.2)\n",
    "point2 = Point(7.2, -25.1)\n",
    "point3 = Point(9.26, -2.456)\n",
    "\n",
    "point3D = Point(9.26, -2.456, 0.57)\n",
    "\n",
    "# What is the type of the point?\n",
    "point_type = type(point1)\n",
    "\n",
    "# Print point information\n",
    "print(point1)\n",
    "\n",
    "print(point3D)\n",
    "\n",
    "print(type(point1))"
   ]
  },
  {
   "cell_type": "code",
   "execution_count": 2,
   "metadata": {},
   "outputs": [
    {
     "name": "stdout",
     "output_type": "stream",
     "text": [
      "2.2\n",
      "4.2\n",
      "<class 'shapely.coords.CoordinateSequence'>\n",
      "(array('d', [2.2]), array('d', [4.2]))\n"
     ]
    }
   ],
   "source": [
    "# Get only x coordinates of Point1\n",
    "x = point1.x\n",
    "print(x)\n",
    "\n",
    "# Get only y coordinates of Point1\n",
    "y = point1.y\n",
    "print(y)\n",
    "\n",
    "# Get x and y coordinates\n",
    "point_coords = point1.coords\n",
    "print(type(point_coords))\n",
    "\n",
    "xy = point_coords.xy\n",
    "print(xy)"
   ]
  },
  {
   "cell_type": "code",
   "execution_count": 3,
   "metadata": {},
   "outputs": [
    {
     "name": "stdout",
     "output_type": "stream",
     "text": [
      "MULTIPOINT (1.45 0, 2 2, 0 2.5, 0 1.45)\n",
      "<class 'tuple'>\n",
      "(<shapely.geometry.point.Point object at 0x7f40a6d79fa0>, <shapely.geometry.point.Point object at 0x7f40a6d79fd0>)\n",
      "POINT (0 0)\n",
      "POINT (1.45 0)\n"
     ]
    }
   ],
   "source": [
    "from shapely.geometry import Point, MultiPoint\n",
    "from shapely.ops import nearest_points\n",
    "\n",
    "# Origin point\n",
    "orig = Point(0, 0)\n",
    "\n",
    "# Destination points\n",
    "dest1 = Point(0, 1.45)\n",
    "dest2 = Point(2, 2)\n",
    "dest3 = Point(0, 2.5)\n",
    "dest4 = Point(1.45, 0)\n",
    "\n",
    "destinations = MultiPoint([dest4, dest2, dest3, dest1])\n",
    "print(destinations)\n",
    "\n",
    "# Processing A nearest point from orig\n",
    "nearest_geoms = nearest_points(orig, destinations)\n",
    "print( type(nearest_geoms) )\n",
    "\n",
    "print(nearest_geoms) ## return the start point and the closest point \n",
    "print(nearest_geoms[0])\n",
    "print(nearest_geoms[1])"
   ]
  }
 ],
 "metadata": {
  "kernelspec": {
   "display_name": "geopy",
   "language": "python",
   "name": "python3"
  },
  "language_info": {
   "codemirror_mode": {
    "name": "ipython",
    "version": 3
   },
   "file_extension": ".py",
   "mimetype": "text/x-python",
   "name": "python",
   "nbconvert_exporter": "python",
   "pygments_lexer": "ipython3",
   "version": "3.8.15"
  }
 },
 "nbformat": 4,
 "nbformat_minor": 2
}
